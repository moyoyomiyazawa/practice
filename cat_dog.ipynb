{
  "nbformat": 4,
  "nbformat_minor": 0,
  "metadata": {
    "colab": {
      "name": "cat_dog.ipynb",
      "version": "0.3.2",
      "provenance": [],
      "include_colab_link": true
    },
    "kernelspec": {
      "name": "python3",
      "display_name": "Python 3"
    },
    "accelerator": "GPU"
  },
  "cells": [
    {
      "cell_type": "markdown",
      "metadata": {
        "id": "view-in-github",
        "colab_type": "text"
      },
      "source": [
        "[View in Colaboratory](https://colab.research.google.com/github/moyoyomiyazawa/practice/blob/master/cat_dog.ipynb)"
      ]
    },
    {
      "metadata": {
        "id": "7nHSLL-ApcXg",
        "colab_type": "code",
        "colab": {
          "base_uri": "https://localhost:8080/",
          "height": 309
        },
        "outputId": "12cd58c3-03c4-47a2-aa49-728fc75fe8a2"
      },
      "cell_type": "code",
      "source": [
        "!pip install icrawler"
      ],
      "execution_count": 3,
      "outputs": [
        {
          "output_type": "stream",
          "text": [
            "Collecting icrawler\n",
            "  Downloading https://files.pythonhosted.org/packages/78/a2/1ac26a2c39b87bef4ef8cb39cb4f33e04041f4a9f04f8cc3dfa1251e0304/icrawler-0.6.2-py2.py3-none-any.whl\n",
            "Requirement already satisfied: requests>=2.9.1 in /usr/local/lib/python3.6/dist-packages (from icrawler) (2.18.4)\n",
            "Requirement already satisfied: six>=1.10.0 in /usr/local/lib/python3.6/dist-packages (from icrawler) (1.11.0)\n",
            "Collecting lxml (from icrawler)\n",
            "\u001b[?25l  Downloading https://files.pythonhosted.org/packages/03/a4/9eea8035fc7c7670e5eab97f34ff2ef0ddd78a491bf96df5accedb0e63f5/lxml-4.2.5-cp36-cp36m-manylinux1_x86_64.whl (5.8MB)\n",
            "\u001b[K    100% |████████████████████████████████| 5.8MB 6.3MB/s \n",
            "\u001b[?25hRequirement already satisfied: Pillow in /usr/local/lib/python3.6/dist-packages (from icrawler) (4.0.0)\n",
            "Requirement already satisfied: beautifulsoup4>=4.4.1 in /usr/local/lib/python3.6/dist-packages (from icrawler) (4.6.3)\n",
            "Requirement already satisfied: certifi>=2017.4.17 in /usr/local/lib/python3.6/dist-packages (from requests>=2.9.1->icrawler) (2018.10.15)\n",
            "Requirement already satisfied: chardet<3.1.0,>=3.0.2 in /usr/local/lib/python3.6/dist-packages (from requests>=2.9.1->icrawler) (3.0.4)\n",
            "Requirement already satisfied: idna<2.7,>=2.5 in /usr/local/lib/python3.6/dist-packages (from requests>=2.9.1->icrawler) (2.6)\n",
            "Requirement already satisfied: urllib3<1.23,>=1.21.1 in /usr/local/lib/python3.6/dist-packages (from requests>=2.9.1->icrawler) (1.22)\n",
            "Requirement already satisfied: olefile in /usr/local/lib/python3.6/dist-packages (from Pillow->icrawler) (0.46)\n",
            "Installing collected packages: lxml, icrawler\n",
            "Successfully installed icrawler-0.6.2 lxml-4.2.5\n"
          ],
          "name": "stdout"
        }
      ]
    },
    {
      "metadata": {
        "id": "wB2cXskXqXxh",
        "colab_type": "code",
        "colab": {
          "base_uri": "https://localhost:8080/",
          "height": 1210
        },
        "outputId": "8d1e3c3a-ca9a-4e92-ffd3-793a415a145b"
      },
      "cell_type": "code",
      "source": [
        "from icrawler.builtin import GoogleImageCrawler\n",
        "\n",
        "# 猫の画像を100枚取得\n",
        "crawler = GoogleImageCrawler(storage={'root_dir': 'cats'})\n",
        "crawler.crawl(keyword='猫', max_num=100)"
      ],
      "execution_count": 4,
      "outputs": [
        {
          "output_type": "stream",
          "text": [
            "2018-10-23 02:04:59,580 - INFO - icrawler.crawler - start crawling...\n",
            "2018-10-23 02:04:59,584 - INFO - icrawler.crawler - starting 1 feeder threads...\n",
            "2018-10-23 02:04:59,589 - INFO - feeder - thread feeder-001 exit\n",
            "2018-10-23 02:04:59,589 - INFO - icrawler.crawler - starting 1 parser threads...\n",
            "2018-10-23 02:04:59,594 - INFO - icrawler.crawler - starting 1 downloader threads...\n",
            "2018-10-23 02:05:00,079 - INFO - parser - parsing result page https://www.google.com/search?q=%E7%8C%AB&ijn=0&start=0&tbs=&tbm=isch\n",
            "2018-10-23 02:05:00,287 - INFO - downloader - image #1\thttps://upload.wikimedia.org/wikipedia/commons/thumb/3/3a/Cat03.jpg/230px-Cat03.jpg\n",
            "2018-10-23 02:05:01,269 - INFO - downloader - image #2\thttps://img0.pclady.com.cn/pclady/pet/choice/cat/1701/6.jpg\n",
            "2018-10-23 02:05:01,324 - INFO - downloader - image #3\thttps://i.ytimg.com/vi/fhJe4noc5o4/maxresdefault.jpg\n",
            "2018-10-23 02:05:02,137 - INFO - downloader - image #4\thttp://n.sinaimg.cn/news/transform/20171113/puY7-fynship2141885.jpg\n",
            "2018-10-23 02:05:02,268 - INFO - downloader - image #5\thttp://i.epochtimes.com/assets/uploads/2017/02/6afb7a177edad7824cd6e0205d4ad782-600x400.jpg\n",
            "2018-10-23 02:05:03,038 - INFO - downloader - image #6\thttps://pic3.zhimg.com/80/v2-40b17763b4eb99ed91c3be971516cc98_hd.jpg\n",
            "2018-10-23 02:05:03,730 - INFO - downloader - image #7\thttps://img3.jiemian.com/101/original/20170411/149189967290005800_a580x330.jpg\n",
            "2018-10-23 02:05:04,282 - INFO - downloader - image #8\thttps://pic2.zhimg.com/80/v2-6329e10eef0bf825c7655ab6117cd8d9_hd.jpg\n",
            "2018-10-23 02:05:04,596 - INFO - downloader - image #9\thttp://i.epochtimes.com/assets/uploads/2017/01/Screen-Shot-2017-01-16-at-3.04.29-PM-600x400.png\n",
            "2018-10-23 02:05:06,819 - INFO - downloader - image #10\thttp://world.people.com.cn/NMediaFile/2018/0222/MAIN201802220956000258496647672.jpg\n",
            "2018-10-23 02:05:07,480 - INFO - downloader - image #11\thttps://pic1.zhimg.com/80/v2-7d238dd4fb9925f757798e1775c7dfd0_hd.jpg\n",
            "2018-10-23 02:05:07,683 - INFO - downloader - image #12\thttps://upload.wikimedia.org/wikipedia/commons/thumb/a/a2/Cat_Golden_Chinchilla.jpg/200px-Cat_Golden_Chinchilla.jpg\n",
            "2018-10-23 02:05:07,932 - INFO - downloader - image #13\thttps://m1.aboluowang.com/uploadfile/2018/0428/20180428095218392.jpg\n",
            "2018-10-23 02:05:08,885 - INFO - downloader - image #14\thttps://pic1.zhimg.com/v2-1f180ed28a62a91f4c5a583ac14525ef_r.jpg\n",
            "2018-10-23 02:05:10,413 - INFO - downloader - image #15\thttp://china.zjol.com.cn/ktx/201709/W020170907577401409420.jpg\n",
            "2018-10-23 02:05:11,030 - INFO - downloader - image #16\thttp://p0.ifengimg.com/pmop/2017/1211/634DD39194B4DEA3DD3E72265D51DD3308E042BF_size216_w1280_h1280.jpeg\n",
            "2018-10-23 02:05:11,127 - INFO - downloader - image #17\thttps://img3.jiemian.com/101/original/20170227/148818466438395600_a580xH.jpg\n",
            "2018-10-23 02:05:12,291 - INFO - downloader - image #18\thttp://www.hereinuk.com/wp-content/uploads/2016/06/14654596596466.jpg\n",
            "2018-10-23 02:05:16,204 - INFO - downloader - image #19\thttp://pic1.win4000.com/wallpaper/9/500e485ae2c38.jpg\n",
            "2018-10-23 02:05:16,270 - INFO - downloader - image #20\thttp://m1.aboluowang.com/uploadfile/2017/1014/20171014031816708.jpg\n",
            "2018-10-23 02:05:16,731 - INFO - downloader - image #21\thttps://ichef.bbci.co.uk/news/660/cpsprodpb/42E2/production/_96522171_gettyimages-450864271.jpg\n",
            "2018-10-23 02:05:19,081 - INFO - downloader - image #22\thttps://static.zhouyizhanbu.com/data/attachment/portal/201704/05/192215lh96ghub556w0gq6.jpg\n",
            "2018-10-23 02:05:19,220 - INFO - downloader - image #23\thttp://imgs.ntdtv.com/pic/2017/4-9/p8114741a707639296.jpg\n",
            "2018-10-23 02:05:19,865 - INFO - downloader - image #24\thttps://i2.hdslb.com/bfs/archive/e91c48c600b77ba66763234e264c3f6908c7bf32.jpg@560w_350h_100Q_1c.webp\n",
            "2018-10-23 02:05:19,879 - INFO - downloader - image #25\thttps://i.ytimg.com/vi/jWzwLRpIGf0/maxresdefault.jpg\n",
            "2018-10-23 02:05:20,257 - INFO - downloader - image #26\thttps://img.chinatimes.com/newsphoto/2017-04-03/656/20170403000817.jpg\n",
            "2018-10-23 02:05:20,283 - INFO - downloader - image #27\thttps://upload.wikimedia.org/wikipedia/commons/thumb/3/3f/Toilet_Trained_Cat_22_Aug_2005.jpg/220px-Toilet_Trained_Cat_22_Aug_2005.jpg\n",
            "2018-10-23 02:05:20,330 - INFO - downloader - image #28\thttp://m1.aboluowang.com/uploadfile/2018/0423/20180423095042112.jpg\n",
            "2018-10-23 02:05:20,915 - INFO - downloader - image #29\thttps://pic4.zhimg.com/v2-f0935a41082bbadbe09b334a86cdc00b_r.jpg\n",
            "2018-10-23 02:05:21,265 - INFO - downloader - image #30\thttps://ichef.bbci.co.uk/news/624/cpsprodpb/14DD1/production/_103175458_p06f24vf.jpg\n",
            "2018-10-23 02:05:23,329 - INFO - downloader - image #31\thttp://www.qianxian001.com/uploads/180115/1516003552Y0-WS1.jpg\n",
            "2018-10-23 02:05:23,871 - INFO - downloader - image #32\thttps://img10.360buyimg.com/n7/jfs/t12892/218/2066170714/439742/d3e9a32/5a4ee81bNa7b3ea51.jpg\n",
            "2018-10-23 02:05:23,889 - INFO - downloader - image #33\thttps://i.ytimg.com/vi/94OjkZp4PZA/maxresdefault.jpg\n",
            "2018-10-23 02:05:24,253 - INFO - downloader - image #34\thttp://n.sinaimg.cn/translate/20171110/cnnX-fynstfh3264326.jpg\n",
            "2018-10-23 02:05:25,444 - INFO - downloader - image #35\thttp://www.xinhuanet.com/local/2017-02/24/1120521277_14878965253351n.jpg\n",
            "2018-10-23 02:05:25,547 - INFO - downloader - image #36\thttps://pbs.twimg.com/profile_images/450801182135422976/-69lntRh_400x400.jpeg\n",
            "2018-10-23 02:05:26,185 - INFO - downloader - image #37\thttp://5b0988e595225.cdn.sohucs.com/images/20180827/3879fd6df83e4e5a9ed37223bcf57ed4.jpeg\n",
            "2018-10-23 02:05:29,042 - INFO - downloader - image #38\thttps://img2.pclady.com.cn/pclady/pet/petall/0911/123_21.jpg\n",
            "2018-10-23 02:05:29,092 - INFO - downloader - image #39\thttp://m1.aboluowang.com/uploadfile/2018/0825/20180825032624212.jpg\n",
            "2018-10-23 02:05:32,236 - INFO - downloader - image #40\thttp://cms-bucket.nosdn.127.net/cc6d9f0c130c4d89a0c6b42fe2ecc04920171117232909.jpeg?imageView&thumbnail=550x0\n",
            "2018-10-23 02:05:54,592 - ERROR - downloader - Exception caught when downloading file https://i.zgjm.org/uploads/allimg/140118/1334551250-0.jpg, error: HTTPSConnectionPool(host='i.zgjm.org', port=443): Read timed out., remaining retry times: 2\n",
            "2018-10-23 02:06:08,372 - ERROR - downloader - Exception caught when downloading file https://i.zgjm.org/uploads/allimg/140118/1334551250-0.jpg, error: HTTPSConnectionPool(host='i.zgjm.org', port=443): Read timed out. (read timeout=5), remaining retry times: 1\n",
            "2018-10-23 02:06:27,477 - ERROR - downloader - Exception caught when downloading file https://i.zgjm.org/uploads/allimg/140118/1334551250-0.jpg, error: HTTPSConnectionPool(host='i.zgjm.org', port=443): Read timed out., remaining retry times: 0\n",
            "2018-10-23 02:06:27,569 - INFO - downloader - image #41\thttp://s2.buzzhand.net/uploads/25/7/687892/14312133107472.jpg\n",
            "2018-10-23 02:06:28,441 - INFO - downloader - image #42\thttps://gss2.bdstatic.com/9fo3dSag_xI4khGkpoWK1HF6hhy/baike/w%3D400/sign=7311ab673dd3d539c13d0ec30a85e927/55e736d12f2eb93821abf16bde628535e4dd6f61.jpg\n",
            "2018-10-23 02:06:29,294 - INFO - downloader - image #43\thttps://gss3.bdstatic.com/-Po3dSag_xI4khGkpoWK1HF6hhy/baike/s%3D220/sign=dcd3faed71cf3bc7ec00caeee102babd/ac4bd11373f08202e17597df4afbfbedaa641b6e.jpg\n",
            "2018-10-23 02:06:30,107 - INFO - downloader - image #44\thttps://www1.pclady.com.cn/pet/2016chongwu/66745989_1510730614058.jpg\n",
            "2018-10-23 02:06:30,193 - INFO - downloader - image #45\thttps://ichef.bbci.co.uk/news/624/cpsprodpb/15943/production/_96578388_tv000061022.jpg\n",
            "2018-10-23 02:06:40,337 - ERROR - downloader - Exception caught when downloading file http://www.cnr.cn/lvyou/list/20171220/W020171220373430579806.jpg, error: HTTPConnectionPool(host='travel.cnr.cn', port=80): Read timed out. (read timeout=5), remaining retry times: 2\n",
            "2018-10-23 02:06:41,789 - INFO - downloader - image #46\thttp://www.cnr.cn/lvyou/list/20171220/W020171220373430579806.jpg\n",
            "2018-10-23 02:06:44,310 - INFO - downloader - image #47\thttp://a4.att.hudong.com/52/17/18300543819754146155177767704_s.jpg\n",
            "2018-10-23 02:06:44,498 - INFO - downloader - image #48\thttps://cdn.hk01.com/di/media/images/982094/org/f73ebdf1b529a87e1b4f550d15015531.jpg/7tdfwOxyvk7YGjH0t94uq2CAWhkSaw2CXIwFRlyMBUY?v=w1920\n",
            "2018-10-23 02:06:46,502 - INFO - parser - no more page urls for thread parser-001 to parse\n",
            "2018-10-23 02:06:46,504 - INFO - parser - thread parser-001 exit\n",
            "2018-10-23 02:06:48,253 - INFO - downloader - image #49\thttp://img1.gtimg.com/cul/pics/hv1/76/172/2235/145374811.png\n",
            "2018-10-23 02:06:48,267 - INFO - downloader - image #50\thttps://i.ytimg.com/vi/4Xf6i-ETHRo/maxresdefault.jpg\n",
            "2018-10-23 02:06:48,550 - INFO - downloader - image #51\thttps://gss3.bdstatic.com/-Po3dSag_xI4khGkpoWK1HF6hhy/baike/s%3D220/sign=dda6b0f3acaf2eddd0f14eebbd110102/574e9258d109b3de372d2a9dccbf6c81810a4cb1.jpg\n",
            "2018-10-23 02:06:49,474 - INFO - downloader - image #52\thttps://img0.pchouse.com.cn/pchouse/1508/07/1222858_1.png\n",
            "2018-10-23 02:06:50,861 - INFO - downloader - image #53\thttp://image.nbd.com.cn/uploads/articles/images/425798/7.x_large.jpg\n",
            "2018-10-23 02:06:50,893 - INFO - downloader - image #54\thttp://5b0988e595225.cdn.sohucs.com/images/20180407/3812d29585aa4580a09b0570f61ff819.jpeg\n",
            "2018-10-23 02:06:55,895 - INFO - downloader - no more download task for thread downloader-001\n",
            "2018-10-23 02:06:55,896 - INFO - downloader - thread downloader-001 exit\n",
            "2018-10-23 02:06:56,734 - INFO - icrawler.crawler - Crawling task done!\n"
          ],
          "name": "stderr"
        }
      ]
    },
    {
      "metadata": {
        "id": "qn_AsGScq5BV",
        "colab_type": "code",
        "colab": {
          "base_uri": "https://localhost:8080/",
          "height": 1754
        },
        "outputId": "b4c422d9-15bb-4fba-f141-74596b7440ba"
      },
      "cell_type": "code",
      "source": [
        "# 犬の画像を100枚取得\n",
        "crawler = GoogleImageCrawler(storage={'root_dir': 'dogs'})\n",
        "crawler.crawl(keyword='犬', max_num=100)"
      ],
      "execution_count": 5,
      "outputs": [
        {
          "output_type": "stream",
          "text": [
            "2018-10-23 02:12:40,771 - INFO - icrawler.crawler - start crawling...\n",
            "2018-10-23 02:12:40,773 - INFO - icrawler.crawler - starting 1 feeder threads...\n",
            "2018-10-23 02:12:40,775 - INFO - feeder - thread feeder-001 exit\n",
            "2018-10-23 02:12:40,775 - INFO - icrawler.crawler - starting 1 parser threads...\n",
            "2018-10-23 02:12:40,787 - INFO - icrawler.crawler - starting 1 downloader threads...\n",
            "2018-10-23 02:12:41,329 - INFO - parser - parsing result page https://www.google.com/search?q=%E7%8A%AC&ijn=0&start=0&tbs=&tbm=isch\n",
            "2018-10-23 02:12:41,491 - INFO - downloader - image #1\thttps://www.min-inuzukan.com/images/dog_img_shiba.jpg?180824\n",
            "2018-10-23 02:12:41,535 - INFO - downloader - image #2\thttps://www.min-inuzukan.com/images/detailMain_pomeranian.png?20170926\n",
            "2018-10-23 02:12:41,554 - INFO - downloader - image #3\thttps://www.min-inuzukan.com/images/dog_img_long-chihuahua.jpg?180824\n",
            "2018-10-23 02:12:41,664 - INFO - downloader - image #4\thttps://static.pepy.jp/wp-content/uploads/2017/03/14200700/shutterstock_479923096-480x320.jpg\n",
            "2018-10-23 02:12:42,734 - INFO - downloader - image #5\thttps://diamond.jp/mwimgs/7/1/400/img_71c53c1d81500a1cf73a4f543e72413f27838.jpg\n",
            "2018-10-23 02:12:42,833 - INFO - downloader - image #6\thttps://upload.wikimedia.org/wikipedia/commons/thumb/e/e3/Coat_types_3.jpg/240px-Coat_types_3.jpg\n",
            "2018-10-23 02:12:44,073 - INFO - downloader - image #7\thttp://komaigi-pet-clinic.com/wp-content/uploads/2016/11/shutterstock_401055829.jpg\n",
            "2018-10-23 02:12:45,029 - INFO - downloader - image #8\thttps://cdn.wanchan.jp/c/wanchan.jp/pro/crop/750x450/center/9/5ea49b97924f8feeec5775eb8e9f1b9a.jpg\n",
            "2018-10-23 02:12:45,187 - INFO - downloader - image #9\thttps://assets.media-platform.com/bi/dist/images/2018/03/19/58a5da1f54905724008b509d-w1280.jpg\n",
            "2018-10-23 02:12:46,713 - INFO - downloader - image #10\thttps://image1.shopserve.jp/pecohug.co.jp/pic-labo/mamechiyo500x500.jpg\n",
            "2018-10-23 02:12:46,735 - INFO - downloader - image #11\thttps://www.min-inuzukan.com/images/detailMain_tiny-poodle.png?20170926\n",
            "2018-10-23 02:12:47,581 - INFO - downloader - image #12\thttps://wanpedia.com/wordpress/wp-content/uploads/2016/05/dbc4aa4acbffa249faefa83e88c132bd-1-min.jpg\n",
            "2018-10-23 02:12:48,386 - INFO - downloader - image #13\thttp://psnews.jp/dog/uploads/2018/01/eye5.jpg\n",
            "2018-10-23 02:12:49,866 - INFO - downloader - image #14\thttps://www.axa-direct.co.jp/pet/pet-ms/img/media/2017/05/img_diet-dog_kv-710x398.jpg\n",
            "2018-10-23 02:12:50,105 - INFO - downloader - image #15\thttp://livedoor.blogimg.jp/karapaia_zaeega/imgs/7/2/72234259.jpg\n",
            "2018-10-23 02:12:50,485 - INFO - downloader - image #16\thttp://livedoor.blogimg.jp/karapaia_zaeega/imgs/b/c/bc141def.jpg\n",
            "2018-10-23 02:12:51,171 - INFO - downloader - image #17\thttp://image.news.livedoor.com/newsimage/stf/f/a/fa069_1534_ddf673e0f2c5cfd90abffa35e14c6e47.jpg\n",
            "2018-10-23 02:12:51,450 - INFO - downloader - image #18\thttps://www.min-breeder.com/images/dogKind/dog_img_miniature-dachshund.jpg?170926\n",
            "2018-10-23 02:12:52,380 - INFO - downloader - image #19\thttps://www.asahicom.jp/images15/fbox/edit5/201506/0615dog1_660.jpg\n",
            "2018-10-23 02:12:52,533 - INFO - downloader - image #20\thttps://i1.wp.com/petr.jp/wp-content/uploads/24187858.jpg?resize=300%2C300&ssl=1\n",
            "2018-10-23 02:12:52,631 - INFO - downloader - image #21\thttps://pbs.twimg.com/media/DZHWbUKVwAENcHP.jpg\n",
            "2018-10-23 02:12:53,573 - INFO - downloader - image #22\thttp://gogotsu.com/wp-content/uploads/2018/03/03-6.jpg\n",
            "2018-10-23 02:12:53,640 - INFO - downloader - image #23\thttps://www.min-inuzukan.com/images/dog_img_toy-poodle.jpg?180824\n",
            "2018-10-23 02:12:53,826 - INFO - downloader - image #24\thttps://d2goguvysdoarq.cloudfront.net/system/article_assets/attachments/2738/normal.jpg?1506925365\n",
            "2018-10-23 02:12:55,415 - INFO - downloader - image #25\thttps://s3-ap-northeast-1.amazonaws.com/lifull-homes-press/uploads/press/2016/03/pixta_7998197_S.jpg\n",
            "2018-10-23 02:12:56,407 - INFO - downloader - image #26\thttps://shigotonadeshiko.jp/wp-content/uploads/2017/10/shibatio.jpg\n",
            "2018-10-23 02:12:57,730 - INFO - downloader - image #27\thttps://storage.tenki.jp/storage/static-images/suppl/article/image/2/27/277/27740/1/large.jpg\n",
            "2018-10-23 02:12:57,817 - INFO - downloader - image #28\thttps://upload.wikimedia.org/wikipedia/commons/thumb/a/a1/Canine_reproduction.jpg/200px-Canine_reproduction.jpg\n",
            "2018-10-23 02:13:00,187 - INFO - downloader - image #29\thttps://store.docdog.jp/store/Images/Products/DD1-BDD02_07.png\n",
            "2018-10-23 02:13:00,953 - INFO - downloader - image #30\thttps://www.newsweekjapan.jp/stories/assets_c/2018/07/magw180706-dog01-thumb-720xauto.jpg\n",
            "2018-10-23 02:13:01,769 - INFO - downloader - image #31\thttps://cdn.serai.jp/wp-content/uploads/2017/07/f86d6921a217ccf51113e69c27326c88-700x468.jpg\n",
            "2018-10-23 02:13:02,179 - INFO - downloader - image #32\thttps://rr.img.naver.jp/mig?src=http%3A%2F%2Flivedoor.blogimg.jp%2Fhikoken_tokyo%2Fimgs%2F7%2F5%2F75b28e82.jpg&twidth=1200&theight=1200&qlt=80&res_format=jpg&op=r\n",
            "2018-10-23 02:13:03,006 - INFO - downloader - image #33\thttp://dog-marine.net/wp/wp-content/uploads/IMG_5648-300x300.jpg\n",
            "2018-10-23 02:13:03,655 - INFO - downloader - image #34\thttp://psnews.jp/dog/uploads/2016/05/a11b4bb3ba448d1fa402ac3dc62cc91f1.jpg\n",
            "2018-10-23 02:13:05,032 - INFO - downloader - image #35\thttps://grapee.jp/wp-content/uploads/33342_main1.jpg\n",
            "2018-10-23 02:13:05,391 - INFO - downloader - image #36\thttps://www.newsweekjapan.jp/stories/assets_c/2017/11/iStock-591830832-thumb-720xauto.jpg\n",
            "2018-10-23 02:13:06,628 - INFO - downloader - image #37\thttps://qpet.jp/dog/wp-content/uploads/2017/11/280-2.jpg\n",
            "2018-10-23 02:13:07,034 - INFO - downloader - image #38\thttp://image.news.livedoor.com/newsimage/stf/b/d/bd4c4_1534_b91f0ff0e038a990c02aced9bc81ffce.jpg\n",
            "2018-10-23 02:13:08,670 - INFO - downloader - image #39\thttp://www.dogoo.com/toukou/dogqa/faq_log/log_images/1055487.jpg\n",
            "2018-10-23 02:13:09,701 - INFO - downloader - image #40\thttps://www.green-dog.com/cocokara/wp/wp-content/uploads/7564-00109_1.jpg\n",
            "2018-10-23 02:13:10,599 - INFO - downloader - image #41\thttps://dcdn.cdn.nimg.jp/niconews/articles/images/3357477/1ff3de64f111555bb9ab27694d3e721d80d7f6d03e4557a22b5cdcbc4b9c221ef8491c39aa2f64abd5d73bd254396fd2f925bce47cbb6364a0acf5eaaebcf4ed\n",
            "2018-10-23 02:13:10,849 - INFO - downloader - image #42\thttp://livedoor.blogimg.jp/laba_q/imgs/7/8/7888a898.jpg\n",
            "2018-10-23 02:13:11,473 - INFO - downloader - image #43\thttps://img.dmenumedia.jp/ent/wp-content/uploads/2016/05/18444168_1688300414518742_1364541453883146240_n.jpg\n",
            "2018-10-23 02:13:11,477 - ERROR - downloader - Exception caught when downloading file https://%E7%8A%AC%E3%81%AE%E9%A3%BC%E3%81%84%E6%96%B9%E5%AD%90%E7%8A%AC%E3%81%AE%E8%82%B2%E3%81%A6%E6%96%B9.com/wp-content/uploads/2016/09/7e35bc174899ba24cca4fa55129c3554.jpg, error: encoding with 'idna' codec failed (UnicodeError: label empty or too long), remaining retry times: 2\n",
            "2018-10-23 02:13:11,479 - ERROR - downloader - Exception caught when downloading file https://%E7%8A%AC%E3%81%AE%E9%A3%BC%E3%81%84%E6%96%B9%E5%AD%90%E7%8A%AC%E3%81%AE%E8%82%B2%E3%81%A6%E6%96%B9.com/wp-content/uploads/2016/09/7e35bc174899ba24cca4fa55129c3554.jpg, error: encoding with 'idna' codec failed (UnicodeError: label empty or too long), remaining retry times: 1\n",
            "2018-10-23 02:13:11,484 - ERROR - downloader - Exception caught when downloading file https://%E7%8A%AC%E3%81%AE%E9%A3%BC%E3%81%84%E6%96%B9%E5%AD%90%E7%8A%AC%E3%81%AE%E8%82%B2%E3%81%A6%E6%96%B9.com/wp-content/uploads/2016/09/7e35bc174899ba24cca4fa55129c3554.jpg, error: encoding with 'idna' codec failed (UnicodeError: label empty or too long), remaining retry times: 0\n",
            "2018-10-23 02:13:11,634 - INFO - downloader - image #44\thttps://www.green-dog.com/cocokara/wp/wp-content/uploads/7564-00094-1-1.jpg\n",
            "2018-10-23 02:13:12,473 - INFO - downloader - image #45\thttps://petraku.com/wp-content/uploads/2017/12/51b323f63468b2ddfdd1adce113d9fc8_s-e1514343952888.jpg\n",
            "2018-10-23 02:13:13,767 - INFO - downloader - image #46\thttps://img.benesse-cms.jp/pet-dog/item/image/normal/b78007bc-fdd7-4121-97b3-524f6b0b756b.jpg\n",
            "2018-10-23 02:13:15,445 - INFO - downloader - image #47\thttps://www.1242.com/lf/asset/uploads/2018/01/dog-3045116_1280a.jpg\n",
            "2018-10-23 02:13:16,424 - INFO - downloader - image #48\thttps://s3-ap-northeast-1.amazonaws.com/petpedia/upload_by_admin/dog_0001_800.jpg\n",
            "2018-10-23 02:13:16,605 - INFO - downloader - image #49\thttps://i0.wp.com/morakijidog.jp/wp/wp-content/uploads/2016/03/siba.jpg\n",
            "2018-10-23 02:13:18,238 - INFO - downloader - image #50\thttp://puppylife-navi.com/wp-content/uploads/2015/05/cb6727d15d44373e0e063ced332f9a1e_m.jpg\n",
            "2018-10-23 02:13:19,617 - INFO - downloader - image #51\thttps://www.rakuten.ne.jp/gold/full-of-vigor/v3/page/item/manner/elizabethwear/13-06112-1/13-06112-1_main02.jpg\n",
            "2018-10-23 02:13:21,482 - INFO - downloader - image #52\thttps://asajo.jp/wp-content/uploads/2017/10/20171029_asajo_inu.jpg\n",
            "2018-10-23 02:13:21,538 - ERROR - downloader - Exception caught when downloading file http://e-%E7%8A%AC%E3%81%AE%E3%81%97%E3%81%A4%E3%81%91%E6%96%B9.com/img/fotolia_31042623_xs.jpg, error: HTTPConnectionPool(host='e-%e7%8a%ac%e3%81%ae%e3%81%97%e3%81%a4%e3%81%91%e6%96%b9.com', port=80): Max retries exceeded with url: /img/fotolia_31042623_xs.jpg (Caused by NewConnectionError('<urllib3.connection.HTTPConnection object at 0x7f6e0a51d780>: Failed to establish a new connection: [Errno -2] Name or service not known',)), remaining retry times: 2\n",
            "2018-10-23 02:13:21,546 - ERROR - downloader - Exception caught when downloading file http://e-%E7%8A%AC%E3%81%AE%E3%81%97%E3%81%A4%E3%81%91%E6%96%B9.com/img/fotolia_31042623_xs.jpg, error: HTTPConnectionPool(host='e-%e7%8a%ac%e3%81%ae%e3%81%97%e3%81%a4%e3%81%91%e6%96%b9.com', port=80): Max retries exceeded with url: /img/fotolia_31042623_xs.jpg (Caused by NewConnectionError('<urllib3.connection.HTTPConnection object at 0x7f6e0a58f208>: Failed to establish a new connection: [Errno -2] Name or service not known',)), remaining retry times: 1\n",
            "2018-10-23 02:13:21,555 - ERROR - downloader - Exception caught when downloading file http://e-%E7%8A%AC%E3%81%AE%E3%81%97%E3%81%A4%E3%81%91%E6%96%B9.com/img/fotolia_31042623_xs.jpg, error: HTTPConnectionPool(host='e-%e7%8a%ac%e3%81%ae%e3%81%97%e3%81%a4%e3%81%91%e6%96%b9.com', port=80): Max retries exceeded with url: /img/fotolia_31042623_xs.jpg (Caused by NewConnectionError('<urllib3.connection.HTTPConnection object at 0x7f6e0a58fc88>: Failed to establish a new connection: [Errno -2] Name or service not known',)), remaining retry times: 0\n",
            "2018-10-23 02:13:21,684 - INFO - downloader - image #53\thttps://images-na.ssl-images-amazon.com/images/I/41h17GVZ5gL._SX378_BO1,204,203,200_.jpg\n",
            "2018-10-23 02:13:22,611 - INFO - downloader - image #54\thttps://img.sirabee.com/wp/wp-content/uploads/2018/08/matumotoinu-600x438.jpg\n",
            "2018-10-23 02:13:23,436 - INFO - downloader - image #55\thttps://s3-ap-northeast-1.amazonaws.com/petpedia/upload_by_admin/house_dog_thumbnail_800.jpg\n",
            "2018-10-23 02:13:23,768 - INFO - downloader - image #56\thttps://i1.wp.com/inuinublog.com/wp-content/uploads/2018/08/%E3%83%93%E3%83%BC%E3%82%B0%E3%83%AB_1535298749.jpg?fit=728%2C410&ssl=1\n",
            "2018-10-23 02:13:23,899 - INFO - downloader - image #57\thttps://www.min-inuzukan.com/images/dog_img_mameshiba.jpg?1\n",
            "2018-10-23 02:13:25,610 - INFO - downloader - image #58\thttps://d3utmhtlcphhyc.cloudfront.net/files/topics/19_ext_01_3.png\n",
            "2018-10-23 02:13:26,446 - INFO - downloader - image #59\thttps://www.lifeboat.or.jp/satooya/dog/photo_dogs/cd2919_b_m.jpg\n",
            "2018-10-23 02:13:27,645 - INFO - downloader - image #60\thttps://iwiz-chie.c.yimg.jp/im_siggNdO_zWewcYLxGaDdbfN.TA---x320-y320-exp5m-n1/d/iwiz-chie/que-11133092221\n",
            "2018-10-23 02:13:27,787 - INFO - downloader - image #61\thttps://static.pepy.jp/wp-content/uploads/2015/10/06111407/shutterstock_318653267-300x241.jpg\n",
            "2018-10-23 02:13:28,507 - INFO - downloader - image #62\thttps://www.asahicom.jp/articles/images/AS20180620001031_commL.jpg\n",
            "2018-10-23 02:13:29,370 - INFO - downloader - image #63\thttps://petomorrow.jp/wordpress/wp-content/uploads/2016/05/j1-1-480x400.jpg\n",
            "2018-10-23 02:13:29,748 - INFO - downloader - image #64\thttp://www.min-petlife.com/data/article/49954/main_49954_a12e1_detail.jpg\n",
            "2018-10-23 02:13:29,869 - INFO - downloader - image #65\thttps://images-na.ssl-images-amazon.com/images/I/61GWFJKtiwL.jpg\n",
            "2018-10-23 02:13:30,673 - INFO - downloader - image #66\thttps://wanpedia.com/wordpress/wp-content/uploads/2016/09/post_3.jpg\n",
            "2018-10-23 02:13:30,793 - INFO - downloader - image #67\thttps://cdn.mofmo.jp/v3/640/imeditor_storage/1/article/547536511.jpg\n",
            "2018-10-23 02:13:31,455 - INFO - downloader - image #68\thttps://cdn.wanchan.jp/c/wanchan.jp/pro/resize/400x400/100/3/5473f0500d33a26da45cb25435d0159d.jpg\n",
            "2018-10-23 02:13:32,438 - INFO - downloader - image #69\thttps://www.oshiete-wan.net/wp-content/uploads/2018/02/pixta_5720697_M-890x500.jpg\n",
            "2018-10-23 02:13:32,560 - INFO - downloader - image #70\thttps://s.aolcdn.com/hss/storage/midas/430d8e75d09947b1f757150b68008c7f/206251615/ivanka-trumps-dog-doppelganger.jpg\n",
            "2018-10-23 02:13:33,939 - INFO - downloader - image #71\thttps://www.cnn.co.jp/storage/2017/12/05/d89018005a8fe38ff5e2fd9010477fec/cat-dog-stock.jpg\n",
            "2018-10-23 02:13:34,883 - INFO - downloader - image #72\thttps://dot.asahi.com/S2000/upload/2017061600042_1.jpg\n",
            "2018-10-23 02:13:35,316 - INFO - downloader - image #73\thttp://image.itmedia.co.jp/nl/articles/1602/01/ah_naki1.jpg\n",
            "2018-10-23 02:13:36,014 - INFO - downloader - image #74\thttp://www.nyktakamatsu.com/wp/wp-content/uploads/321212.jpg\n",
            "2018-10-23 02:13:36,969 - INFO - downloader - image #75\thttps://cdn-natgeo.nikkeibp.co.jp/atcl/news/18/051800220/ph_thumb.jpg?__scale=w:500,h:333&_sh=0e30ab0c40\n",
            "2018-10-23 02:13:37,133 - INFO - downloader - image #76\thttps://upload.wikimedia.org/wikipedia/commons/thumb/4/48/Pregnant_bitch_mongrel_Jan_2008_Shot_in_Jalandhar_Punjab_India_by_gopal1035_017.jpg/200px-Pregnant_bitch_mongrel_Jan_2008_Shot_in_Jalandhar_Punjab_India_by_gopal1035_017.jpg\n",
            "2018-10-23 02:13:38,107 - INFO - downloader - image #77\thttps://www.1242.com/lf/asset/uploads/2018/01/dog-1655710_1280a.jpg\n",
            "2018-10-23 02:13:39,010 - INFO - downloader - image #78\thttps://img.recordchina.co.jp/thumbs/m720/201705/20170526-05895910.jpg\n",
            "2018-10-23 02:13:40,063 - INFO - downloader - image #79\thttp://www.city.ube.yamaguchi.jp/kurashi/sumai/pet/images/inu.gif\n",
            "2018-10-23 02:13:41,015 - INFO - parser - no more page urls for thread parser-001 to parse\n",
            "2018-10-23 02:13:41,016 - INFO - parser - thread parser-001 exit\n",
            "2018-10-23 02:13:41,506 - INFO - downloader - image #80\thttp://www.ogawa-vet.co.jp/2016/wp-content/themes/2016/images/topimage.jpg\n",
            "2018-10-23 02:13:42,330 - INFO - downloader - image #81\thttps://www.min-breeder.com/data/aboutdog/ad_img1_thumb_mob_top_page_7e2c4.jpg\n",
            "2018-10-23 02:13:42,971 - INFO - downloader - image #82\thttp://www.city.okayama.jp/contents/000336523.JPG\n",
            "2018-10-23 02:13:44,134 - INFO - downloader - image #83\thttps://img.benesse-cms.jp/pet-dog/item/image/normal/resized/resized_f3929e18-e5c6-4395-8771-3be11dc04317.jpg\n",
            "2018-10-23 02:13:45,058 - INFO - downloader - image #84\thttps://s3-ap-northeast-1.amazonaws.com/storage.withnews.jp/2017/07/10/0/1f/01f8b668-l.jpg\n",
            "2018-10-23 02:13:50,061 - INFO - downloader - no more download task for thread downloader-001\n",
            "2018-10-23 02:13:50,062 - INFO - downloader - thread downloader-001 exit\n",
            "2018-10-23 02:13:50,872 - INFO - icrawler.crawler - Crawling task done!\n"
          ],
          "name": "stderr"
        }
      ]
    },
    {
      "metadata": {
        "id": "VKr3kap7uiyp",
        "colab_type": "code",
        "colab": {
          "base_uri": "https://localhost:8080/",
          "height": 247
        },
        "outputId": "1aa9b205-c77e-4635-f58d-230148ab13ad"
      },
      "cell_type": "code",
      "source": [
        "import glob\n",
        "glob.glob('./images/*')\n",
        "\n",
        "#猫画像を表示\n",
        "from IPython.display import Image, display_jpeg\n",
        "display_jpeg(Image('./cats/000001.jpg'))"
      ],
      "execution_count": 6,
      "outputs": [
        {
          "output_type": "display_data",
          "data": {
            "image/jpeg": "[encoded data removed]"
          },
          "metadata": {
            "tags": []
          }
        }
      ]
    },
    {
      "metadata": {
        "id": "9ltcVYC8u4hI",
        "colab_type": "code",
        "colab": {}
      },
      "cell_type": "code",
      "source": [
        "# データの整形と学習データの作成\n",
        "\n",
        "from PIL import Image\n",
        "import os, glob\n",
        "import numpy as np\n",
        "classes = ['dogs', 'cats']\n",
        "num_classes = len(classes)\n",
        "image_size = 50\n",
        "num_testdata = 25\n",
        "\n",
        "X_train = []\n",
        "X_test = []\n",
        "Y_train = []\n",
        "Y_test = []\n",
        "\n",
        "for index, classlabel in enumerate(classes):\n",
        "    photos_dir = './' + classlabel\n",
        "    files = glob.glob(photos_dir + '/*.jpg')\n",
        "    for i, file in enumerate(files):\n",
        "        image = Image.open(file)\n",
        "        image = image.convert('RGB')\n",
        "        image = image.resize((image_size, image_size))\n",
        "        data = np.asarray(image)\n",
        "        if i < num_testdata:\n",
        "            X_test.append(data)\n",
        "            Y_test.append(index)\n",
        "        else:\n",
        "            for angle in range(-20, 20, 5):\n",
        "                \n",
        "                img_r = image.rotate(angle)\n",
        "                data = np.asarray(img_r)\n",
        "                X_train.append(data)\n",
        "                Y_train.append(index)\n",
        "                \n",
        "                img_trans = img_r.transpose(Image.FLIP_LEFT_RIGHT)\n",
        "                data = np.asarray(img_trans)\n",
        "                X_train.append(data)\n",
        "                Y_train.append(index)\n",
        "                \n",
        "X_train = np.array(X_train)\n",
        "X_test = np.array(X_test)\n",
        "y_train = np.array(Y_train)\n",
        "y_test = np.array(Y_test)\n",
        "\n",
        "xy = (X_train, X_test, y_train, y_test)\n",
        "np.save('./dog_cat.npy', xy)"
      ],
      "execution_count": 0,
      "outputs": []
    },
    {
      "metadata": {
        "id": "eNbo2swY8ofn",
        "colab_type": "code",
        "colab": {
          "base_uri": "https://localhost:8080/",
          "height": 1448
        },
        "outputId": "d5f4c5df-02ea-4fad-a03b-934306d7df3d"
      },
      "cell_type": "code",
      "source": [
        "from keras.models import Sequential\n",
        "from keras.layers import Conv2D, MaxPooling2D\n",
        "from keras.layers import Activation, Dropout, Flatten, Dense\n",
        "from keras.utils import np_utils\n",
        "import keras\n",
        "import numpy as np\n",
        "\n",
        "classes = ['dog', 'cat']\n",
        "num_classes = len(classes)\n",
        "image_size = 50\n",
        "\n",
        "\"\"\"\n",
        "データを読み込む関数\n",
        "\"\"\"\n",
        "def load_data():\n",
        "    X_train, X_test, y_train, y_test = np.load('./dog_cat.npy')\n",
        "    # データを正規化\n",
        "    X_train = X_train.astype('float') / 256\n",
        "    X_test = X_test.astype('float') / 256\n",
        "    y_train = np_utils.to_categorical(y_train, num_classes)\n",
        "    y_test = np_utils.to_categorical(y_test, num_classes)\n",
        "    \n",
        "    return X_train, y_train, X_test, y_test\n",
        "\n",
        "\"\"\"\n",
        "モデルを学習する関数\n",
        "\"\"\"\n",
        "def train(X, y, X_test, y_test):\n",
        "    model = Sequential()\n",
        "    model.add(Conv2D(32, (3, 3), padding='same', input_shape=X.shape[1:]))\n",
        "    model.add(Activation('relu'))\n",
        "    model.add(Conv2D(32, (3, 3)))\n",
        "    model.add(Activation('relu'))\n",
        "    model.add(MaxPooling2D(pool_size=(2, 2)))\n",
        "    model.add(Dropout(0.1))\n",
        "    \n",
        "    model.add(Conv2D(64, (3, 3), padding='same'))\n",
        "    model.add(Activation('relu'))\n",
        "    model.add(Conv2D(64, (3, 3)))\n",
        "    model.add(Activation('relu'))\n",
        "    model.add(MaxPooling2D(pool_size=(2, 2)))\n",
        "    model.add(Dropout(0.25))\n",
        "    \n",
        "    model.add(Flatten())\n",
        "    model.add(Dense(512))\n",
        "    model.add(Activation('relu'))\n",
        "    model.add(Dropout(0.45))\n",
        "    model.add(Dense(2))\n",
        "    model.add(Activation('softmax'))\n",
        "    \n",
        "    opt = keras.optimizers.rmsprop(lr=0.00005, decay=1e-6)\n",
        "    model.compile(loss='categorical_crossentropy', optimizer=opt, metrics=['accuracy'])\n",
        "    model.fit(X, y, batch_size=28, epochs=40)\n",
        "    model.save('./cnn.h5')\n",
        "    \n",
        "    return model\n",
        "\n",
        "\"\"\"\n",
        "メイン関数\n",
        "データの読み込みとモデルの学習を行います。\n",
        "\"\"\"\n",
        "def main():\n",
        "    # データの読み込み\n",
        "    X_train, y_train, X_test, y_test = load_data()\n",
        "    \n",
        "    # モデルの学習\n",
        "    model = train(X_train, y_train, X_test, y_test)\n",
        "    \n",
        "main()"
      ],
      "execution_count": 9,
      "outputs": [
        {
          "output_type": "stream",
          "text": [
            "Using TensorFlow backend.\n"
          ],
          "name": "stderr"
        },
        {
          "output_type": "stream",
          "text": [
            "WARNING:tensorflow:Variable *= will be deprecated. Use `var.assign(var * other)` if you want assignment to the variable value or `x = x * y` if you want a new python Tensor object.\n"
          ],
          "name": "stdout"
        },
        {
          "output_type": "stream",
          "text": [
            "2018-10-23 03:38:54,052 - WARNING - tensorflow - Variable *= will be deprecated. Use `var.assign(var * other)` if you want assignment to the variable value or `x = x * y` if you want a new python Tensor object.\n"
          ],
          "name": "stderr"
        },
        {
          "output_type": "stream",
          "text": [
            "Epoch 1/40\n",
            "1184/1184 [==============================] - 2s 2ms/step - loss: 0.5961 - acc: 0.7162\n",
            "Epoch 2/40\n",
            "1184/1184 [==============================] - 1s 818us/step - loss: 0.5566 - acc: 0.7179\n",
            "Epoch 3/40\n",
            "1184/1184 [==============================] - 1s 823us/step - loss: 0.5336 - acc: 0.7264\n",
            "Epoch 4/40\n",
            "1184/1184 [==============================] - 1s 824us/step - loss: 0.5084 - acc: 0.7356\n",
            "Epoch 5/40\n",
            "1184/1184 [==============================] - 1s 819us/step - loss: 0.4821 - acc: 0.7593\n",
            "Epoch 6/40\n",
            "1184/1184 [==============================] - 1s 824us/step - loss: 0.4436 - acc: 0.7855\n",
            "Epoch 7/40\n",
            "1184/1184 [==============================] - 1s 827us/step - loss: 0.4378 - acc: 0.7998\n",
            "Epoch 8/40\n",
            "1184/1184 [==============================] - 1s 815us/step - loss: 0.4031 - acc: 0.8209\n",
            "Epoch 9/40\n",
            "1184/1184 [==============================] - 1s 820us/step - loss: 0.3697 - acc: 0.8311\n",
            "Epoch 10/40\n",
            "1184/1184 [==============================] - 1s 829us/step - loss: 0.3385 - acc: 0.8463\n",
            "Epoch 11/40\n",
            "1184/1184 [==============================] - 1s 828us/step - loss: 0.3065 - acc: 0.8632\n",
            "Epoch 12/40\n",
            "1184/1184 [==============================] - 1s 816us/step - loss: 0.2752 - acc: 0.8919\n",
            "Epoch 13/40\n",
            "1184/1184 [==============================] - 1s 809us/step - loss: 0.2501 - acc: 0.8953\n",
            "Epoch 14/40\n",
            "1184/1184 [==============================] - 1s 813us/step - loss: 0.2352 - acc: 0.9054\n",
            "Epoch 15/40\n",
            "1184/1184 [==============================] - 1s 814us/step - loss: 0.2194 - acc: 0.9139\n",
            "Epoch 16/40\n",
            "1184/1184 [==============================] - 1s 820us/step - loss: 0.1943 - acc: 0.9215\n",
            "Epoch 17/40\n",
            "1184/1184 [==============================] - 1s 825us/step - loss: 0.1934 - acc: 0.9206\n",
            "Epoch 18/40\n",
            "1184/1184 [==============================] - 1s 823us/step - loss: 0.1731 - acc: 0.9282\n",
            "Epoch 19/40\n",
            "1184/1184 [==============================] - 1s 818us/step - loss: 0.1632 - acc: 0.9341\n",
            "Epoch 20/40\n",
            "1184/1184 [==============================] - 1s 822us/step - loss: 0.1494 - acc: 0.9417\n",
            "Epoch 21/40\n",
            "1184/1184 [==============================] - 1s 817us/step - loss: 0.1441 - acc: 0.9451\n",
            "Epoch 22/40\n",
            "1184/1184 [==============================] - 1s 826us/step - loss: 0.1372 - acc: 0.9578\n",
            "Epoch 23/40\n",
            "1184/1184 [==============================] - 1s 830us/step - loss: 0.1122 - acc: 0.9645\n",
            "Epoch 24/40\n",
            "1184/1184 [==============================] - 1s 830us/step - loss: 0.1156 - acc: 0.9578\n",
            "Epoch 25/40\n",
            "1184/1184 [==============================] - 1s 817us/step - loss: 0.1115 - acc: 0.9654\n",
            "Epoch 26/40\n",
            "1184/1184 [==============================] - 1s 814us/step - loss: 0.1059 - acc: 0.9620\n",
            "Epoch 27/40\n",
            "1184/1184 [==============================] - 1s 823us/step - loss: 0.0974 - acc: 0.9696\n",
            "Epoch 28/40\n",
            "1184/1184 [==============================] - 1s 826us/step - loss: 0.0956 - acc: 0.9704\n",
            "Epoch 29/40\n",
            "1184/1184 [==============================] - 1s 817us/step - loss: 0.0887 - acc: 0.9704\n",
            "Epoch 30/40\n",
            "1184/1184 [==============================] - 1s 829us/step - loss: 0.0787 - acc: 0.9772\n",
            "Epoch 31/40\n",
            "1184/1184 [==============================] - 1s 830us/step - loss: 0.0705 - acc: 0.9806\n",
            "Epoch 32/40\n",
            "1184/1184 [==============================] - 1s 818us/step - loss: 0.0688 - acc: 0.9797\n",
            "Epoch 33/40\n",
            "1184/1184 [==============================] - 1s 838us/step - loss: 0.0606 - acc: 0.9823\n",
            "Epoch 34/40\n",
            "1184/1184 [==============================] - 1s 818us/step - loss: 0.0668 - acc: 0.9764\n",
            "Epoch 35/40\n",
            "1184/1184 [==============================] - 1s 826us/step - loss: 0.0478 - acc: 0.9873\n",
            "Epoch 36/40\n",
            "1184/1184 [==============================] - 1s 821us/step - loss: 0.0477 - acc: 0.9873\n",
            "Epoch 37/40\n",
            "1184/1184 [==============================] - 1s 824us/step - loss: 0.0617 - acc: 0.9797\n",
            "Epoch 38/40\n",
            "1184/1184 [==============================] - 1s 819us/step - loss: 0.0446 - acc: 0.9873\n",
            "Epoch 39/40\n",
            "1184/1184 [==============================] - 1s 827us/step - loss: 0.0568 - acc: 0.9848\n",
            "Epoch 40/40\n",
            "1184/1184 [==============================] - 1s 829us/step - loss: 0.0369 - acc: 0.9899\n"
          ],
          "name": "stdout"
        }
      ]
    },
    {
      "metadata": {
        "id": "8Y4EZOwPAcTb",
        "colab_type": "code",
        "colab": {
          "resources": {
            "http://localhost:8080/nbextensions/google.colab/files.js": {
              "data": "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",
              "ok": true,
              "headers": [
                [
                  "content-type",
                  "application/javascript"
                ]
              ],
              "status": 200,
              "status_text": ""
            }
          },
          "base_uri": "https://localhost:8080/",
          "height": 69
        },
        "outputId": "3b538593-cb5c-4a31-c5e6-b10d9822afdf"
      },
      "cell_type": "code",
      "source": [
        "from google.colab import files\n",
        "uploaded = files.upload()"
      ],
      "execution_count": 20,
      "outputs": [
        {
          "output_type": "display_data",
          "data": {
            "text/html": [
              "\n",
              "     <input type=\"file\" id=\"files-c8c63656-b7be-411d-be90-e6def2867879\" name=\"files[]\" multiple disabled />\n",
              "     <output id=\"result-c8c63656-b7be-411d-be90-e6def2867879\">\n",
              "      Upload widget is only available when the cell has been executed in the\n",
              "      current browser session. Please rerun this cell to enable.\n",
              "      </output>\n",
              "      <script src=\"/nbextensions/google.colab/files.js\"></script> "
            ],
            "text/plain": [
              "<IPython.core.display.HTML object>"
            ]
          },
          "metadata": {
            "tags": []
          }
        },
        {
          "output_type": "stream",
          "text": [
            "Saving cat3.jpg to cat3.jpg\n"
          ],
          "name": "stdout"
        }
      ]
    },
    {
      "metadata": {
        "id": "_EdouclzA4UF",
        "colab_type": "code",
        "colab": {
          "base_uri": "https://localhost:8080/",
          "height": 139
        },
        "outputId": "865872b7-0d1b-4a03-c425-5d7317a87ffd"
      },
      "cell_type": "code",
      "source": [
        "import keras\n",
        "import sys, os\n",
        "import scipy\n",
        "import scipy.misc\n",
        "import numpy as np\n",
        "from keras.models import load_model\n",
        "\n",
        "imsize = (50, 50)\n",
        "\n",
        "testpic = './cat3.jpg'\n",
        "keras_param = './cnn.h5'\n",
        "\n",
        "def load_image(path):\n",
        "    img = scipy.misc.imread(path, mode='RGB')\n",
        "    img = scipy.misc.imresize(img, imsize)\n",
        "    img = img / 255.0\n",
        "    return img\n",
        "\n",
        "def get_file(dir_path):\n",
        "    filenames = os.listdir(dir_path)\n",
        "    return filenames\n",
        "\n",
        "if __name__=='__main__':\n",
        "    \n",
        "    model = load_model('cnn.h5')\n",
        "    img = load_image(testpic)\n",
        "    prd = model.predict(np.array([img]))\n",
        "    print(prd)\n",
        "    prelabel = np.argmax(prd, axis=1)\n",
        "    if prelabel == 0:\n",
        "        print('>>> 犬')\n",
        "    elif prelabel == 1:\n",
        "        print('>>> 猫')"
      ],
      "execution_count": 21,
      "outputs": [
        {
          "output_type": "stream",
          "text": [
            "[[0.4513728  0.54862726]]\n",
            ">>> 猫\n"
          ],
          "name": "stdout"
        },
        {
          "output_type": "stream",
          "text": [
            "/usr/local/lib/python3.6/dist-packages/scipy/misc/pilutil.py:482: FutureWarning: Conversion of the second argument of issubdtype from `int` to `np.signedinteger` is deprecated. In future, it will be treated as `np.int64 == np.dtype(int).type`.\n",
            "  if issubdtype(ts, int):\n",
            "/usr/local/lib/python3.6/dist-packages/scipy/misc/pilutil.py:485: FutureWarning: Conversion of the second argument of issubdtype from `float` to `np.floating` is deprecated. In future, it will be treated as `np.float64 == np.dtype(float).type`.\n",
            "  elif issubdtype(type(size), float):\n"
          ],
          "name": "stderr"
        }
      ]
    }
  ]
}