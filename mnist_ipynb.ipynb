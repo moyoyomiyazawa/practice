{
  "nbformat": 4,
  "nbformat_minor": 0,
  "metadata": {
    "colab": {
      "name": "mnist.ipynb のコピー",
      "version": "0.3.2",
      "provenance": [],
      "include_colab_link": true
    },
    "kernelspec": {
      "name": "python3",
      "display_name": "Python 3"
    },
    "accelerator": "GPU"
  },
  "cells": [
    {
      "cell_type": "markdown",
      "metadata": {
        "id": "view-in-github",
        "colab_type": "text"
      },
      "source": [
        "[View in Colaboratory](https://colab.research.google.com/github/moyoyomiyazawa/practice/blob/master/mnist_ipynb.ipynb)"
      ]
    },
    {
      "metadata": {
        "id": "KlHWsX5DcoOX",
        "colab_type": "code",
        "colab": {}
      },
      "cell_type": "code",
      "source": [
        "import keras\n",
        "from keras.datasets import mnist\n",
        "from keras.models import Sequential\n",
        "from keras.layers import Dense, Dropout, Flatten\n",
        "from keras.layers import Conv2D, MaxPooling2D\n",
        "from keras import backend as K"
      ],
      "execution_count": 0,
      "outputs": []
    },
    {
      "metadata": {
        "id": "B3XSZ82EdO8i",
        "colab_type": "code",
        "colab": {}
      },
      "cell_type": "code",
      "source": [
        "batch_size = 128\n",
        "num_classes = 10\n",
        "epochs = 12"
      ],
      "execution_count": 0,
      "outputs": []
    },
    {
      "metadata": {
        "id": "E94Xg3C9dX-W",
        "colab_type": "code",
        "colab": {}
      },
      "cell_type": "code",
      "source": [
        "# 入力画像の大きさ(行と列)\n",
        "img_rows, img_cols = 28, 28"
      ],
      "execution_count": 0,
      "outputs": []
    },
    {
      "metadata": {
        "id": "soiZ8yvddprQ",
        "colab_type": "code",
        "outputId": "583ca0c9-bb30-468c-daac-6c9d6303eaad",
        "colab": {
          "base_uri": "https://localhost:8080/",
          "height": 51
        }
      },
      "cell_type": "code",
      "source": [
        "# 学習データとテストデータに分割したデータ\n",
        "(x_train, y_train), (x_test, y_test) = mnist.load_data()"
      ],
      "execution_count": 0,
      "outputs": [
        {
          "output_type": "stream",
          "text": [
            "Downloading data from https://s3.amazonaws.com/img-datasets/mnist.npz\n",
            "11493376/11490434 [==============================] - 0s 0us/step\n"
          ],
          "name": "stdout"
        }
      ]
    },
    {
      "metadata": {
        "id": "2GI9Lwy6d5yk",
        "colab_type": "code",
        "colab": {}
      },
      "cell_type": "code",
      "source": [
        "# backendがTensorFlowとTheanoで配列のshapeが異なるために2パターン記述\n",
        "if K.image_data_format() == 'channels_first':\n",
        "    # 1次元配列に変換\n",
        "    x_train = x_train.reshape(x_train.shape[0], 1, img_rows, img_cols)\n",
        "    x_test = x_test.reshape(x_test.shape[0], 1, img_rows, img_cols)\n",
        "    input_shape = (1, img_rows, img_cols)\n",
        "else:\n",
        "    # 1次元配列に変換\n",
        "    x_train = x_train.reshape(x_train.shape[0], img_rows, img_cols, 1)\n",
        "    x_test = x_test.reshape(x_test.shape[0], img_rows, img_cols, 1)\n",
        "    input_shape = (img_rows, img_cols, 1)"
      ],
      "execution_count": 0,
      "outputs": []
    },
    {
      "metadata": {
        "id": "FP0dgUJ6ilD8",
        "colab_type": "code",
        "outputId": "34bf4d96-60f0-465b-fd55-7d340fb9c8a3",
        "colab": {
          "base_uri": "https://localhost:8080/",
          "height": 68
        }
      },
      "cell_type": "code",
      "source": [
        "# 入力データ[0, 1]の範囲に正規化\n",
        "x_train = x_train.astype('float32')\n",
        "x_test = x_test.astype('float32')\n",
        "x_train /= 255\n",
        "x_test /= 255\n",
        "print('x_train shape:', x_train.shape)\n",
        "print(x_train.shape[0], 'train samples')\n",
        "print(x_test.shape[0], 'test samples')"
      ],
      "execution_count": 0,
      "outputs": [
        {
          "output_type": "stream",
          "text": [
            "x_train shape: (60000, 28, 28, 1)\n",
            "60000 train samples\n",
            "10000 test samples\n"
          ],
          "name": "stdout"
        }
      ]
    },
    {
      "metadata": {
        "id": "KR8j6tImjJlt",
        "colab_type": "code",
        "colab": {}
      },
      "cell_type": "code",
      "source": [
        "# ラベルをバイナリベクトルとして扱う\n",
        "# Kerasはラベルを数値ではなく、0 or 1を要素に持つベクトルで扱うため\n",
        "\n",
        "\"\"\"\n",
        "例えば、サンプルに対するターゲットが「5」の場合、次のような形になります。\n",
        "[0, 0, 0, 0, 0, 1, 0, 0, 0, 0]\n",
        "\"\"\"\n",
        "y_train = keras.utils.to_categorical(y_train, num_classes)\n",
        "y_test = keras.utils.to_categorical(y_test, num_classes)"
      ],
      "execution_count": 0,
      "outputs": []
    },
    {
      "metadata": {
        "id": "1WX1ETyDjyf0",
        "colab_type": "code",
        "colab": {}
      },
      "cell_type": "code",
      "source": [
        "# CNNネットワークの構築\n",
        "model = Sequential()\n",
        "model.add(Conv2D(32, kernel_size=(3, 3),\n",
        "                activation='relu',\n",
        "                input_shape=input_shape))\n",
        "model.add(Conv2D(64, (3, 3), activation='relu'))\n",
        "model.add(MaxPooling2D(pool_size=(2, 2)))\n",
        "model.add(Dropout(0.25))\n",
        "model.add(Flatten())\n",
        "model.add(Dense(128, activation='relu'))\n",
        "model.add(Dropout(0.5))\n",
        "model.add(Dense(num_classes, activation='softmax'))"
      ],
      "execution_count": 0,
      "outputs": []
    },
    {
      "metadata": {
        "id": "ObTNblynkpNb",
        "colab_type": "code",
        "colab": {}
      },
      "cell_type": "code",
      "source": [
        "# 損失関数、最適化関数、評価指標を指定してモデルをコンパイル\n",
        "model.compile(loss=keras.losses.categorical_crossentropy,\n",
        "             optimizer=keras.optimizers.Adadelta(),\n",
        "             metrics=['accuracy'])"
      ],
      "execution_count": 0,
      "outputs": []
    },
    {
      "metadata": {
        "id": "44dNRaAOlAnI",
        "colab_type": "code",
        "outputId": "76202146-2321-49c8-943d-f050c5cc1c01",
        "colab": {
          "base_uri": "https://localhost:8080/",
          "height": 479
        }
      },
      "cell_type": "code",
      "source": [
        "# モデルの学習\n",
        "model.fit(x_train, y_train,\n",
        "         batch_size=batch_size,\n",
        "         epochs=epochs,\n",
        "         verbose=1,\n",
        "         validation_data=(x_test, y_test))"
      ],
      "execution_count": 0,
      "outputs": [
        {
          "output_type": "stream",
          "text": [
            "Train on 60000 samples, validate on 10000 samples\n",
            "Epoch 1/12\n",
            "60000/60000 [==============================] - 12s 196us/step - loss: 0.2664 - acc: 0.9189 - val_loss: 0.0603 - val_acc: 0.9799\n",
            "Epoch 2/12\n",
            "60000/60000 [==============================] - 10s 161us/step - loss: 0.0881 - acc: 0.9736 - val_loss: 0.0412 - val_acc: 0.9857\n",
            "Epoch 3/12\n",
            "60000/60000 [==============================] - 10s 162us/step - loss: 0.0673 - acc: 0.9794 - val_loss: 0.0351 - val_acc: 0.9877\n",
            "Epoch 4/12\n",
            "60000/60000 [==============================] - 10s 161us/step - loss: 0.0545 - acc: 0.9833 - val_loss: 0.0300 - val_acc: 0.9901\n",
            "Epoch 5/12\n",
            "60000/60000 [==============================] - 10s 162us/step - loss: 0.0481 - acc: 0.9852 - val_loss: 0.0328 - val_acc: 0.9888\n",
            "Epoch 6/12\n",
            "60000/60000 [==============================] - 10s 163us/step - loss: 0.0413 - acc: 0.9875 - val_loss: 0.0305 - val_acc: 0.9905\n",
            "Epoch 7/12\n",
            "60000/60000 [==============================] - 10s 167us/step - loss: 0.0376 - acc: 0.9887 - val_loss: 0.0272 - val_acc: 0.9916\n",
            "Epoch 8/12\n",
            "60000/60000 [==============================] - 10s 164us/step - loss: 0.0346 - acc: 0.9894 - val_loss: 0.0319 - val_acc: 0.9892\n",
            "Epoch 9/12\n",
            "60000/60000 [==============================] - 10s 162us/step - loss: 0.0308 - acc: 0.9903 - val_loss: 0.0270 - val_acc: 0.9914\n",
            "Epoch 10/12\n",
            "60000/60000 [==============================] - 10s 161us/step - loss: 0.0302 - acc: 0.9908 - val_loss: 0.0241 - val_acc: 0.9921\n",
            "Epoch 11/12\n",
            "60000/60000 [==============================] - 10s 159us/step - loss: 0.0291 - acc: 0.9908 - val_loss: 0.0260 - val_acc: 0.9919\n",
            "Epoch 12/12\n",
            "60000/60000 [==============================] - 9s 158us/step - loss: 0.0266 - acc: 0.9918 - val_loss: 0.0266 - val_acc: 0.9927\n"
          ],
          "name": "stdout"
        },
        {
          "output_type": "execute_result",
          "data": {
            "text/plain": [
              "<keras.callbacks.History at 0x7fa8a6de7668>"
            ]
          },
          "metadata": {
            "tags": []
          },
          "execution_count": 13
        }
      ]
    },
    {
      "metadata": {
        "id": "Ebpjpbl6lOh-",
        "colab_type": "code",
        "outputId": "2f9ac732-7b42-4208-a236-fd6ecc7521b0",
        "colab": {
          "base_uri": "https://localhost:8080/",
          "height": 51
        }
      },
      "cell_type": "code",
      "source": [
        "# モデルの評価\n",
        "score = model.evaluate(x_test, y_test, verbose=0)\n",
        "print('Test loss:', score[0])\n",
        "print('Test accuracy:', score[1])"
      ],
      "execution_count": 0,
      "outputs": [
        {
          "output_type": "stream",
          "text": [
            "Test loss: 0.026577823844922476\n",
            "Test accuracy: 0.9927\n"
          ],
          "name": "stdout"
        }
      ]
    },
    {
      "metadata": {
        "id": "Hz5a5u0_ljfw",
        "colab_type": "code",
        "outputId": "b8f270f8-0bb4-4718-d9f4-c4c359e90172",
        "colab": {
          "base_uri": "https://localhost:8080/",
          "height": 496
        }
      },
      "cell_type": "code",
      "source": [
        "# 学習済みモデルの保存\n",
        "model.save('model.h5')\n",
        "\n",
        "hist = model.fit(x_train, y_train,\n",
        "                batch_size=batch_size,\n",
        "                epochs=epochs,\n",
        "                verbose=1,\n",
        "                validation_data=(x_test, y_test))\n",
        "score = model.evaluate(x_test, y_test, verbose=0)\n",
        "print('Test loss:', score[0])\n",
        "print('Test accuracy:', score[1])\n",
        "model.save('model.h5')"
      ],
      "execution_count": 0,
      "outputs": [
        {
          "output_type": "stream",
          "text": [
            "Train on 60000 samples, validate on 10000 samples\n",
            "Epoch 1/12\n",
            "60000/60000 [==============================] - 10s 160us/step - loss: 0.0263 - acc: 0.9922 - val_loss: 0.0245 - val_acc: 0.9917\n",
            "Epoch 2/12\n",
            "60000/60000 [==============================] - 10s 160us/step - loss: 0.0238 - acc: 0.9931 - val_loss: 0.0313 - val_acc: 0.9900\n",
            "Epoch 3/12\n",
            "60000/60000 [==============================] - 10s 160us/step - loss: 0.0244 - acc: 0.9919 - val_loss: 0.0256 - val_acc: 0.9917\n",
            "Epoch 4/12\n",
            "60000/60000 [==============================] - 10s 159us/step - loss: 0.0224 - acc: 0.9929 - val_loss: 0.0274 - val_acc: 0.9921\n",
            "Epoch 5/12\n",
            "60000/60000 [==============================] - 10s 159us/step - loss: 0.0230 - acc: 0.9929 - val_loss: 0.0269 - val_acc: 0.9922\n",
            "Epoch 6/12\n",
            "60000/60000 [==============================] - 10s 160us/step - loss: 0.0224 - acc: 0.9934 - val_loss: 0.0266 - val_acc: 0.9929\n",
            "Epoch 7/12\n",
            "60000/60000 [==============================] - 10s 160us/step - loss: 0.0208 - acc: 0.9935 - val_loss: 0.0320 - val_acc: 0.9924\n",
            "Epoch 8/12\n",
            "60000/60000 [==============================] - 10s 160us/step - loss: 0.0214 - acc: 0.9937 - val_loss: 0.0276 - val_acc: 0.9919\n",
            "Epoch 9/12\n",
            "60000/60000 [==============================] - 10s 160us/step - loss: 0.0199 - acc: 0.9940 - val_loss: 0.0320 - val_acc: 0.9911\n",
            "Epoch 10/12\n",
            "60000/60000 [==============================] - 10s 160us/step - loss: 0.0201 - acc: 0.9936 - val_loss: 0.0253 - val_acc: 0.9923\n",
            "Epoch 11/12\n",
            "60000/60000 [==============================] - 10s 160us/step - loss: 0.0194 - acc: 0.9941 - val_loss: 0.0304 - val_acc: 0.9915\n",
            "Epoch 12/12\n",
            "60000/60000 [==============================] - 10s 161us/step - loss: 0.0169 - acc: 0.9944 - val_loss: 0.0287 - val_acc: 0.9930\n",
            "Test loss: 0.028674940899543845\n",
            "Test accuracy: 0.993\n"
          ],
          "name": "stdout"
        }
      ]
    },
    {
      "metadata": {
        "id": "vtsHrhhJmJN-",
        "colab_type": "code",
        "outputId": "db654340-aecc-43d4-f614-f3cd8b204daf",
        "colab": {
          "base_uri": "https://localhost:8080/",
          "height": 707
        }
      },
      "cell_type": "code",
      "source": [
        "import matplotlib.pyplot as plt\n",
        "# 学習をグラフ化(正解率)\n",
        "plt.plot(hist.history['acc'])\n",
        "plt.plot(hist.history['val_acc'])\n",
        "plt.title('Accuracy')\n",
        "plt.legend(['train', 'test'], loc='upper left')\n",
        "plt.show()\n",
        "\n",
        "# 学習をグラフ化(正解率)\n",
        "plt.plot(hist.history['loss'])\n",
        "plt.plot(hist.history['val_loss'])\n",
        "plt.title('Loss')\n",
        "plt.legend(['train', 'test'], loc='upper left')\n",
        "plt.show()"
      ],
      "execution_count": 0,
      "outputs": [
        {
          "output_type": "display_data",
          "data": {
            "image/png": "[encoded data removed]",
            "text/plain": [
              "<matplotlib.figure.Figure at 0x7fa8a0c10f98>"
            ]
          },
          "metadata": {
            "tags": []
          }
        },
        {
          "output_type": "display_data",
          "data": {
            "image/png": "[encoded data removed]",
            "text/plain": [
              "<matplotlib.figure.Figure at 0x7fa8a0b85710>"
            ]
          },
          "metadata": {
            "tags": []
          }
        }
      ]
    }
  ]
}